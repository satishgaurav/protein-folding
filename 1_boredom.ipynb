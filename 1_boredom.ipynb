{
 "cells": [
  {
   "cell_type": "code",
   "execution_count": 20,
   "metadata": {
    "kernel": "Python3"
   },
   "outputs": [],
   "source": [
    "def get_details(code): \n",
    "    \n",
    "    if code == \"G\": \n",
    "        full_name = \"Glycine\"\n",
    "        three_letter_code = \"Gly\"\n",
    "        one_letter_code = \"G\"\n",
    "        s_no = \"1\"\n",
    "        side_chain = \"nonpolar\"\n",
    "        overall = \"NONPOLAR AMINO ACIDS\"\n",
    "        aromaticity = \"nonaromatic\"\n",
    "        molecular_weight = 75.1\n",
    "        \n",
    "    elif code == \"A\":\n",
    "        full_name = \"Alanine\"\n",
    "        three_letter_code = \"Ala\"\n",
    "        one_letter_code = \"A\"\n",
    "        s_no = \"2\"\n",
    "        side_chain = \"nonpolar\"\n",
    "        overall = \"NONPOLAR AMINO ACIDS\"\n",
    "        aromaticity = \"nonaromatic\"\n",
    "        molecular_weight = 89.1\n",
    "        \n",
    "    elif code == \"V\":\n",
    "        full_name = \"Valine\"\n",
    "        three_letter_code = \"Val\"\n",
    "        one_letter_code = \"V\"\n",
    "        s_no = \"3\"\n",
    "        side_chain = \"nonpolar\"\n",
    "        overall = \"NONPOLAR AMINO ACIDS\"\n",
    "        aromaticity = \"nonaromatic\"\n",
    "        molecular_weight = 117.1\n",
    "    \n",
    "    elif code == \"C\":\n",
    "        \n",
    "        full_name = \"Cysteine\"\n",
    "        three_letter_code = \"Cys\"\n",
    "        one_letter_code = \"C\"\n",
    "        s_no = \"4\"\n",
    "        side_chain = \"nonpolar\"\n",
    "        overall = \"NONPOLAR AMINO ACIDS\"\n",
    "        aromaticity = \"nonaromatic\"\n",
    "        molecular_weight = 121.2\n",
    "        \n",
    "    elif code == \"P\":\n",
    "        full_name = \"Proline\"\n",
    "        three_letter_code = \"Pro\"\n",
    "        one_letter_code = \"P\"\n",
    "        s_no = \"5\"\n",
    "        side_chain = \"nonpolar\"\n",
    "        overall = \"NONPOLAR AMINO ACIDS\"\n",
    "        aromaticity = \"nonaromatic\"\n",
    "        molecular_weight = 115.1\n",
    "    \n",
    "    elif code == \"L\":\n",
    "        \n",
    "        full_name = \"Leucine\"\n",
    "        three_letter_code = \"Leu\"\n",
    "        one_letter_code = \"L\"\n",
    "        s_no = \"6\"\n",
    "        side_chain = \"nonpolar\"\n",
    "        overall = \"NONPOLAR AMINO ACIDS\"\n",
    "        aromaticity = \"nonaromatic\"\n",
    "        molecular_weight = 131.2\n",
    "    \n",
    "    elif code == \"I\":\n",
    "        \n",
    "        full_name = \"Isoleucine\"\n",
    "        three_letter_code = \"Isl\"\n",
    "        one_letter_code = \"I\"\n",
    "        s_no = \"7\"\n",
    "        side_chain = \"nonpolar\"\n",
    "        overall = \"NONPOLAR AMINO ACIDS\"\n",
    "        aromaticity = \"nonaromatic\"\n",
    "        molecular_weight = 131.2\n",
    "    \n",
    "    elif code == \"M\":\n",
    "        \n",
    "        full_name = \"Methonine\"\n",
    "        three_letter_code = \"Met\"\n",
    "        one_letter_code = \"M\"\n",
    "        s_no = \"8\"\n",
    "        side_chain = \"nonpolar\"\n",
    "        overall = \"NONPOLAR AMINO ACIDS\"\n",
    "        aromaticity = \"nonaromatic\"\n",
    "        molecular_weight = 149.2\n",
    "    \n",
    "    elif code == \"W\":\n",
    "        \n",
    "        full_name = \"Tryptophan\"\n",
    "        three_letter_code = \"Trp\"\n",
    "        one_letter_code = \"W\"\n",
    "        s_no = \"9\"\n",
    "        side_chain = \"nonpolar\"\n",
    "        overall = \"NONPOLAR AMINO ACIDS\"\n",
    "        aromaticity = \"aromatic\"\n",
    "        molecular_weight = 204.2\n",
    "    \n",
    "    elif code == \"F\":\n",
    "        \n",
    "        full_name = \"Phenylalanine\"\n",
    "        three_letter_code = \"Phe\"\n",
    "        one_letter_code = \"F\"\n",
    "        s_no = \"10\"\n",
    "        side_chain = \"nonpolar\"\n",
    "        overall = \"NONPOLAR AMINO ACIDS\"\n",
    "        aromaticity = \"aromatic\"\n",
    "        molecular_weight = 165.2\n",
    "    \n",
    "    elif code == \"S\":\n",
    "        \n",
    "        full_name = \"Serine\"\n",
    "        three_letter_code = \"Ser\"\n",
    "        one_letter_code = \"S\"\n",
    "        s_no = \"11\"\n",
    "        side_chain = \"unchargedpolar\"\n",
    "        overall = \"POLAR AMINO ACIDS\"\n",
    "        aromaticity = \"nonaromatic\"\n",
    "        molecular_weight = 105.1\n",
    "        \n",
    "    \n",
    "    elif code == \"T\":\n",
    "        \n",
    "        full_name = \"Threonine\"\n",
    "        three_letter_code = \"Thr\"\n",
    "        one_letter_code = \"T\"\n",
    "        s_no = \"12\"\n",
    "        side_chain = \"unchargedpolar\"\n",
    "        overall = \"POLAR AMINO ACIDS\"\n",
    "        aromaticity = \"nonaromatic\"\n",
    "        molecular_weight = 119.1\n",
    "    \n",
    "    elif code == \"Y\":\n",
    "        \n",
    "        full_name = \"Tyrosine\"\n",
    "        three_letter_code = \"Tyr\"\n",
    "        one_letter_code = \"Y\"\n",
    "        s_no = \"13\"\n",
    "        side_chain = \"unchargedpolar\"\n",
    "        overall = \"POLAR AMINO ACIDS\"\n",
    "        aromaticity = \"aromatic\"\n",
    "        molecular_weight = 181.2\n",
    "        \n",
    "    elif code == \"N\":\n",
    "        \n",
    "        full_name = \"Asparagine\"\n",
    "        three_letter_code = \"Asn\"\n",
    "        one_letter_code = \"N\"\n",
    "        s_no = \"14\"\n",
    "        side_chain = \"unchargedpolar\"\n",
    "        overall = \"POLAR AMINO ACIDS\"\n",
    "        aromaticity = \"nonaromatic\"\n",
    "        molecular_weight = 132.1\n",
    "         \n",
    "    elif code == \"Q\":\n",
    "        \n",
    "        full_name = \"Glutamine\"\n",
    "        three_letter_code = \"Gln\"\n",
    "        one_letter_code = \"Q\"\n",
    "        s_no = \"15\"\n",
    "        side_chain = \"unchargedpolar\"\n",
    "        overall = \"POLAR AMINO ACIDS\"\n",
    "        aromaticity = \"nonaromatic\"\n",
    "        molecular_weight = 146.2\n",
    "    \n",
    "    elif code == \"K\":\n",
    "        \n",
    "        full_name = \"Lysine\"\n",
    "        three_letter_code = \"Lys\"\n",
    "        one_letter_code = \"K\"\n",
    "        s_no = \"16\"\n",
    "        side_chain = \"positive\"\n",
    "        overall = \"POLAR AMINO ACIDS\"\n",
    "        aromaticity = \"nonaromatic\"\n",
    "        molecular_weight = 146.2\n",
    "    \n",
    "    elif code == \"R\":\n",
    "        \n",
    "        full_name = \"Arginine\"\n",
    "        three_letter_code = \"Arg\"\n",
    "        one_letter_code = \"R\"\n",
    "        s_no = \"17\"\n",
    "        side_chain = \"positive\"\n",
    "        overall = \"POLAR AMINO ACIDS\"\n",
    "        aromaticity = \"nonaromatic\"\n",
    "        molecular_weight = 174.2\n",
    "    \n",
    "    elif code == \"H\":\n",
    "        \n",
    "        full_name = \"Histidine\"\n",
    "        three_letter_code = \"His\"\n",
    "        one_letter_code = \"H\"\n",
    "        s_no = \"18\"\n",
    "        side_chain = \"positive\"\n",
    "        overall = \"POLAR AMINO ACIDS\"\n",
    "        aromaticity = \"aromatic\"\n",
    "        molecular_weight = 155.2\n",
    "    \n",
    "    elif code == \"D\":\n",
    "        \n",
    "        full_name = \"Aspartic Acid\"\n",
    "        three_letter_code = \"Asp\"\n",
    "        one_letter_code = \"D\"\n",
    "        s_no = \"19\"\n",
    "        side_chain = \"negative\"\n",
    "        overall = \"POLAR AMINO ACIDS\"\n",
    "        aromaticity = \"nonaromatic\"\n",
    "        molecular_weight = 133.1\n",
    "    \n",
    "    elif code == \"E\":\n",
    "        \n",
    "        full_name = \"Glutamic Acid\"\n",
    "        three_letter_code = \"Glu\"\n",
    "        one_letter_code = \"E\"\n",
    "        s_no = \"20\"\n",
    "        side_chain = \"negative\"\n",
    "        overall = \"POLAR AMINO ACIDS\"\n",
    "        aromaticity = \"nonaromatic\"\n",
    "        molecular_weight = 147.1\n",
    "        \n",
    "    des = (\n",
    "        f'Number: {s_no}\\n'\n",
    "        f'Name: {full_name}\\n'\n",
    "        f'Three letter code: {three_letter_code}\\n'\n",
    "        f'One letter code: {one_letter_code}\\n'\n",
    "        f'side chain property: {side_chain}\\n'\n",
    "        f'Overall: {overall}\\n'\n",
    "        f'Aromaticity: {aromaticity}\\n'\n",
    "        f'M.W (g/mol) : {molecular_weight}'\n",
    "            \n",
    "        )\n",
    "#     print(des)\n",
    "    \n",
    "    return (full_name, three_letter_code, one_letter_code, s_no, side_chain, overall, aromaticity, molecular_weight)\n",
    "\n",
    "\n",
    "def get_short_name(code):\n",
    "    my_list = []\n",
    "    my_list = get_details(code)\n",
    "    return my_list[1]\n",
    "\n",
    "def get_side_chain(code):\n",
    "    my_list = []\n",
    "    my_list = get_details(code)\n",
    "    return my_list[4]\n",
    "\n",
    "def get_aromaticity(code):\n",
    "    my_list = []\n",
    "    my_list = get_details(code)\n",
    "    return my_list[6]\n",
    "\n",
    "def get_molecular_weight(code):\n",
    "    my_list = []\n",
    "    my_list = get_details(code)\n",
    "    return my_list[7]"
   ]
  },
  {
   "cell_type": "code",
   "execution_count": 152,
   "metadata": {
    "kernel": "Python3"
   },
   "outputs": [
    {
     "data": {
      "text/plain": [
       "('Serine', 'Ser', 'S', '11', 'unchargedpolar', 'POLAR AMINO ACIDS')"
      ]
     },
     "execution_count": 152,
     "metadata": {},
     "output_type": "execute_result"
    }
   ],
   "source": [
    "get_details('S')"
   ]
  },
  {
   "cell_type": "code",
   "execution_count": 157,
   "metadata": {
    "kernel": "Python3"
   },
   "outputs": [
    {
     "data": {
      "text/plain": [
       "'Ser'"
      ]
     },
     "execution_count": 157,
     "metadata": {},
     "output_type": "execute_result"
    }
   ],
   "source": [
    "get_short_name('S')"
   ]
  },
  {
   "cell_type": "code",
   "execution_count": 2,
   "metadata": {
    "kernel": "Python3"
   },
   "outputs": [
    {
     "data": {
      "text/plain": [
       "'unchargedpolar'"
      ]
     },
     "execution_count": 2,
     "metadata": {},
     "output_type": "execute_result"
    }
   ],
   "source": [
    "get_side_chain('S')"
   ]
  },
  {
   "cell_type": "code",
   "execution_count": 8,
   "metadata": {
    "kernel": "Python3"
   },
   "outputs": [
    {
     "data": {
      "text/plain": [
       "'notaromatic'"
      ]
     },
     "execution_count": 8,
     "metadata": {},
     "output_type": "execute_result"
    }
   ],
   "source": [
    "get_aromaticity('S')"
   ]
  },
  {
   "cell_type": "code",
   "execution_count": 6,
   "metadata": {
    "kernel": "Python3"
   },
   "outputs": [
    {
     "data": {
      "text/plain": [
       "105.1"
      ]
     },
     "execution_count": 6,
     "metadata": {},
     "output_type": "execute_result"
    }
   ],
   "source": [
    "get_molecular_weight('S')"
   ]
  },
  {
   "cell_type": "markdown",
   "metadata": {
    "kernel": "Python3"
   },
   "source": [
    "# So far... \n",
    "\n",
    "class method didn't work. function method is working but it's too long. A better approach would have to store the details into a pandas data frame and called the function on the data frame. but never mind "
   ]
  },
  {
   "cell_type": "code",
   "execution_count": 9,
   "metadata": {
    "kernel": "Python3"
   },
   "outputs": [],
   "source": [
    "import pandas as pd "
   ]
  },
  {
   "cell_type": "code",
   "execution_count": 24,
   "metadata": {
    "kernel": "Python3"
   },
   "outputs": [],
   "source": [
    "# beta_1_df = pd.DataFrame(columns = ['position', 'code', 'short_name', 'polarity', \n",
    "#                                    'aromaticity', 'molecular_weight'])\n",
    "# beta_1_df"
   ]
  },
  {
   "cell_type": "code",
   "execution_count": 12,
   "metadata": {
    "kernel": "Python3",
    "scrolled": true
   },
   "outputs": [],
   "source": [
    "# seq = \"HSMRYFETAV\"\n",
    "\n",
    "# for i in range(len(seq)): \n",
    "#     print(i+1, seq[i], get_short_name(seq[i]), get_side_chain(seq[i]))\n",
    "#     a = {'pos' : i + 1, \n",
    "#          'code' : seq[i],\n",
    "#          'short_name' : get_short_name(seq[i]), \n",
    "#          'property' : get_side_chain(seq[i])   \n",
    "#     }\n",
    "    \n",
    "#     beta_1_df = beta_1_df.append(a, ignore_index = True)\n",
    "#     print()\n",
    "    \n",
    "# beta_1_df"
   ]
  },
  {
   "cell_type": "code",
   "execution_count": 13,
   "metadata": {
    "kernel": "Python3"
   },
   "outputs": [],
   "source": [
    "# print(beta_1_df.property == 'nonpolar')\n",
    "# (beta_1_df.property == 'nonpolar').sum()"
   ]
  },
  {
   "cell_type": "code",
   "execution_count": 14,
   "metadata": {
    "kernel": "Python3"
   },
   "outputs": [],
   "source": [
    "# seq2 = \"RYISVGYV\"\n",
    "# for i in range(len(seq2)): \n",
    "#     print(i+1, seq2[i], get_short_name(seq2[i]), get_side_chain(seq2[i]))\n",
    "#     print()"
   ]
  },
  {
   "cell_type": "code",
   "execution_count": 15,
   "metadata": {
    "kernel": "Python3"
   },
   "outputs": [],
   "source": [
    "# seq3 = \"KEFVRFD\"\n",
    "# for i in range(len(seq3)): \n",
    "#     print(i+1, seq3[i], get_short_name(seq3[i]), get_side_chain(seq3[i]))\n",
    "#     print()"
   ]
  },
  {
   "cell_type": "code",
   "execution_count": 81,
   "metadata": {
    "kernel": "Python3"
   },
   "outputs": [],
   "source": [
    "def get_seq_details(seq):\n",
    "    \n",
    "    df = pd.DataFrame(columns = ['position', 'code', 'short_name', 'polarity', \n",
    "                                   'aromaticity', 'molecular_weight'])\n",
    "    \n",
    "#     df\n",
    "    \n",
    "    for i in range(len(seq)): \n",
    "        \n",
    "#         print(i+1, seq[i], get_short_name(seq[i]),\n",
    "#               get_side_chain(seq[i]), get_aromaticity(seq[i]), \n",
    "#               get_molecular_weight(seq[i])\n",
    "#              )\n",
    "        \n",
    "        a = {'position' : i+1, \n",
    "             'code' : seq[i],\n",
    "             'short_name' : get_short_name(seq[i]), \n",
    "             'polarity' : get_side_chain(seq[i]),\n",
    "             'aromaticity' : get_aromaticity(seq[i]), \n",
    "             'molecular_weight' : get_molecular_weight(seq[i])\n",
    "        }\n",
    "    \n",
    "        df = df.append(a, ignore_index = True)\n",
    "        \n",
    "    return df\n",
    "\n",
    "# seq3 = \"KEFVRFD\"\n",
    "# get_seq_details(seq3)"
   ]
  },
  {
   "cell_type": "code",
   "execution_count": 23,
   "metadata": {
    "kernel": "Python3",
    "scrolled": true
   },
   "outputs": [],
   "source": [
    "\n",
    "# # seq = \"PHSMRYFETAVSRPGLEEPRYISVGYVDNKEFVRFDSDAENPRYEPRAPWMEQEGPEYWERETQKAKGQEQWFRVSLRNLLGYYNQSAGGSHTLQQMSGCDLGSDWRLLRGYLQFAYEGRDYIALNEDLKTWTAADMAAQITRRKWEQSGAAEHYKAYLEGECVEWLHRYLKNGNATLLRTDSPKAHVTHHPRSKGEVTLRCWALGFYPADITLTWQLNGEELTQDMELVETRPAGDGTFQKWASVVVPLGKEQNYTCRVYHEGLPEPLTLRW\"\n",
    "# # seq = \"MIQKTPQIQVYSRHPPENGKPNILNCYVTQFHPPHIEIQMLKNGKKIPKVEMSDMSFSKDWSFYILAHTEFTPTETDTYACRVKHDSMAEPKTVYWDRDM\"\n",
    "# seq = \"MTTQAPTFTQPLQSVVVLEGSTATFEAHISGFPVPEVSWFRDGQVISTSTLPGVQISFSDGRAKLTIPAVTKANSGRYSLKATNGSGQATSTAELLVKAETAPPNFVQRLQSMTVRQGSQVRLQVRVTGIPTPVVKFYRDGAEIQSSLDFQISQEGDLYSLLIAEAYPEDSGTYSVNATNSVGRATSTAELLVQGETTQAPTFTQPLQSVVVLEGSTATFEAHISGFPVPEVSWFRDGQVISSGRGDSSPGVQISFSDGRAKLTIPAVTKANSGRYSLKATNGSGQATSTAELLVKAETAPPNFVQRLQSMTVRQGSQVRLQVRVTGIPTPVVKFYRDGAEIQSSLDFQISQEGDLYSLLIAEAYPEDSGTYSVNATNSVGRATSTAELLVQGE\"\n",
    "# len(seq)\n",
    "\n",
    "# all_df = pd.DataFrame(columns = ['pos', 'code', 'short_name', 'property'])\n",
    "# all_df\n",
    "\n",
    "# for i in range(len(seq)): \n",
    "#     print(i+1, seq[i], get_short_name(seq[i]), get_side_chain(seq[i]))\n",
    "#     a = {'pos' : i + 1, \n",
    "#          'code' : seq[i],\n",
    "#          'short_name' : get_short_name(seq[i]), \n",
    "#          'polarity' : get_side_chain(seq[i])   \n",
    "#     }\n",
    "    \n",
    "#     all_df = all_df.append(a, ignore_index = True)\n",
    "#     return all_df\n",
    "\n",
    "# # all_df"
   ]
  },
  {
   "cell_type": "code",
   "execution_count": 286,
   "metadata": {
    "kernel": "Python3"
   },
   "outputs": [
    {
     "data": {
      "text/html": [
       "<div>\n",
       "<style scoped>\n",
       "    .dataframe tbody tr th:only-of-type {\n",
       "        vertical-align: middle;\n",
       "    }\n",
       "\n",
       "    .dataframe tbody tr th {\n",
       "        vertical-align: top;\n",
       "    }\n",
       "\n",
       "    .dataframe thead th {\n",
       "        text-align: right;\n",
       "    }\n",
       "</style>\n",
       "<table border=\"1\" class=\"dataframe\">\n",
       "  <thead>\n",
       "    <tr style=\"text-align: right;\">\n",
       "      <th></th>\n",
       "      <th>pos</th>\n",
       "      <th>code</th>\n",
       "      <th>short_name</th>\n",
       "      <th>property</th>\n",
       "    </tr>\n",
       "  </thead>\n",
       "  <tbody>\n",
       "    <tr>\n",
       "      <th>0</th>\n",
       "      <td>1</td>\n",
       "      <td>M</td>\n",
       "      <td>Met</td>\n",
       "      <td>nonpolar</td>\n",
       "    </tr>\n",
       "    <tr>\n",
       "      <th>1</th>\n",
       "      <td>2</td>\n",
       "      <td>T</td>\n",
       "      <td>Thr</td>\n",
       "      <td>unchargedpolar</td>\n",
       "    </tr>\n",
       "    <tr>\n",
       "      <th>2</th>\n",
       "      <td>3</td>\n",
       "      <td>T</td>\n",
       "      <td>Thr</td>\n",
       "      <td>unchargedpolar</td>\n",
       "    </tr>\n",
       "    <tr>\n",
       "      <th>3</th>\n",
       "      <td>4</td>\n",
       "      <td>Q</td>\n",
       "      <td>Gln</td>\n",
       "      <td>unchargedpolar</td>\n",
       "    </tr>\n",
       "    <tr>\n",
       "      <th>4</th>\n",
       "      <td>5</td>\n",
       "      <td>A</td>\n",
       "      <td>Ala</td>\n",
       "      <td>nonpolar</td>\n",
       "    </tr>\n",
       "    <tr>\n",
       "      <th>...</th>\n",
       "      <td>...</td>\n",
       "      <td>...</td>\n",
       "      <td>...</td>\n",
       "      <td>...</td>\n",
       "    </tr>\n",
       "    <tr>\n",
       "      <th>389</th>\n",
       "      <td>390</td>\n",
       "      <td>L</td>\n",
       "      <td>Leu</td>\n",
       "      <td>nonpolar</td>\n",
       "    </tr>\n",
       "    <tr>\n",
       "      <th>390</th>\n",
       "      <td>391</td>\n",
       "      <td>V</td>\n",
       "      <td>Val</td>\n",
       "      <td>nonpolar</td>\n",
       "    </tr>\n",
       "    <tr>\n",
       "      <th>391</th>\n",
       "      <td>392</td>\n",
       "      <td>Q</td>\n",
       "      <td>Gln</td>\n",
       "      <td>unchargedpolar</td>\n",
       "    </tr>\n",
       "    <tr>\n",
       "      <th>392</th>\n",
       "      <td>393</td>\n",
       "      <td>G</td>\n",
       "      <td>Gly</td>\n",
       "      <td>nonpolar</td>\n",
       "    </tr>\n",
       "    <tr>\n",
       "      <th>393</th>\n",
       "      <td>394</td>\n",
       "      <td>E</td>\n",
       "      <td>Glu</td>\n",
       "      <td>negative</td>\n",
       "    </tr>\n",
       "  </tbody>\n",
       "</table>\n",
       "<p>394 rows × 4 columns</p>\n",
       "</div>"
      ],
      "text/plain": [
       "     pos code short_name        property\n",
       "0      1    M        Met        nonpolar\n",
       "1      2    T        Thr  unchargedpolar\n",
       "2      3    T        Thr  unchargedpolar\n",
       "3      4    Q        Gln  unchargedpolar\n",
       "4      5    A        Ala        nonpolar\n",
       "..   ...  ...        ...             ...\n",
       "389  390    L        Leu        nonpolar\n",
       "390  391    V        Val        nonpolar\n",
       "391  392    Q        Gln  unchargedpolar\n",
       "392  393    G        Gly        nonpolar\n",
       "393  394    E        Glu        negative\n",
       "\n",
       "[394 rows x 4 columns]"
      ]
     },
     "execution_count": 286,
     "metadata": {},
     "output_type": "execute_result"
    }
   ],
   "source": [
    "all_df  "
   ]
  },
  {
   "cell_type": "code",
   "execution_count": 294,
   "metadata": {
    "kernel": "Python3"
   },
   "outputs": [
    {
     "data": {
      "text/plain": [
       "10.152284263959391"
      ]
     },
     "execution_count": 294,
     "metadata": {},
     "output_type": "execute_result"
    }
   ],
   "source": [
    "# (all_df.code == 'P').sum()/all_df.shape[0]*100\n",
    "(all_df.code == 'T').sum()/all_df.shape[0]*100"
   ]
  },
  {
   "cell_type": "code",
   "execution_count": 288,
   "metadata": {
    "kernel": "Python3"
   },
   "outputs": [
    {
     "name": "stdout",
     "output_type": "stream",
     "text": [
      "192\n"
     ]
    },
    {
     "data": {
      "text/plain": [
       "0.4873096446700508"
      ]
     },
     "execution_count": 288,
     "metadata": {},
     "output_type": "execute_result"
    }
   ],
   "source": [
    "print((all_df.property == 'nonpolar').sum())\n",
    "(all_df.property == 'nonpolar').sum()/all_df.shape[0]"
   ]
  },
  {
   "cell_type": "code",
   "execution_count": 289,
   "metadata": {
    "kernel": "Python3"
   },
   "outputs": [
    {
     "name": "stdout",
     "output_type": "stream",
     "text": [
      "202\n"
     ]
    },
    {
     "data": {
      "text/plain": [
       "0.5126903553299492"
      ]
     },
     "execution_count": 289,
     "metadata": {},
     "output_type": "execute_result"
    }
   ],
   "source": [
    "\n",
    "print(((all_df.property == 'positive')| (all_df.property == 'negative') | (all_df.property == 'unchargedpolar')).sum())\n",
    "((all_df.property == 'positive')| (all_df.property == 'negative') | (all_df.property == 'unchargedpolar')).sum()/all_df.shape[0]"
   ]
  },
  {
   "cell_type": "code",
   "execution_count": 290,
   "metadata": {
    "kernel": "Python3"
   },
   "outputs": [
    {
     "name": "stdout",
     "output_type": "stream",
     "text": [
      "31\n"
     ]
    },
    {
     "data": {
      "text/plain": [
       "0.07868020304568528"
      ]
     },
     "execution_count": 290,
     "metadata": {},
     "output_type": "execute_result"
    }
   ],
   "source": [
    "print((all_df.property == 'positive').sum())\n",
    "(all_df.property == 'positive').sum()/all_df.shape[0]"
   ]
  },
  {
   "cell_type": "code",
   "execution_count": 291,
   "metadata": {
    "kernel": "Python3"
   },
   "outputs": [
    {
     "name": "stdout",
     "output_type": "stream",
     "text": [
      "35\n"
     ]
    },
    {
     "data": {
      "text/plain": [
       "0.08883248730964467"
      ]
     },
     "execution_count": 291,
     "metadata": {},
     "output_type": "execute_result"
    }
   ],
   "source": [
    "print((all_df.property == 'negative').sum())\n",
    "(all_df.property == 'negative').sum()/all_df.shape[0]"
   ]
  },
  {
   "cell_type": "code",
   "execution_count": 292,
   "metadata": {
    "kernel": "Python3"
   },
   "outputs": [
    {
     "name": "stdout",
     "output_type": "stream",
     "text": [
      "136\n"
     ]
    },
    {
     "data": {
      "text/plain": [
       "0.34517766497461927"
      ]
     },
     "execution_count": 292,
     "metadata": {},
     "output_type": "execute_result"
    }
   ],
   "source": [
    "print((all_df.property == 'unchargedpolar').sum())\n",
    "(all_df.property == 'unchargedpolar').sum()/all_df.shape[0]"
   ]
  },
  {
   "cell_type": "code",
   "execution_count": 177,
   "metadata": {
    "kernel": "Python3"
   },
   "outputs": [
    {
     "data": {
      "text/plain": [
       "'RYISVGYV'"
      ]
     },
     "execution_count": 177,
     "metadata": {},
     "output_type": "execute_result"
    }
   ],
   "source": [
    "beta_1 = seq[2-1:11]\n",
    "beta_1\n",
    "beta_2 = seq[20-1:27]\n",
    "beta_2"
   ]
  },
  {
   "cell_type": "code",
   "execution_count": 180,
   "metadata": {
    "kernel": "Python3"
   },
   "outputs": [
    {
     "data": {
      "text/plain": [
       "'DMAAQITRRKWEQSG'"
      ]
     },
     "execution_count": 180,
     "metadata": {},
     "output_type": "execute_result"
    }
   ],
   "source": [
    "helix_2 = seq[136-1: 150]\n",
    "helix_2"
   ]
  },
  {
   "cell_type": "code",
   "execution_count": 181,
   "metadata": {
    "kernel": "Python3",
    "scrolled": true
   },
   "outputs": [
    {
     "name": "stdout",
     "output_type": "stream",
     "text": [
      "1 D Asp negative\n",
      "\n",
      "2 M Met nonpolar\n",
      "\n",
      "3 A Ala nonpolar\n",
      "\n",
      "4 A Ala nonpolar\n",
      "\n",
      "5 Q Gln unchargedpolar\n",
      "\n",
      "6 I Isl nonpolar\n",
      "\n",
      "7 T Thr unchargedpolar\n",
      "\n",
      "8 R Arg positive\n",
      "\n",
      "9 R Arg positive\n",
      "\n",
      "10 K Lys positive\n",
      "\n",
      "11 W Trp nonpolar\n",
      "\n",
      "12 E Glu negative\n",
      "\n",
      "13 Q Gln unchargedpolar\n",
      "\n",
      "14 S Ser unchargedpolar\n",
      "\n",
      "15 G Gly nonpolar\n",
      "\n"
     ]
    }
   ],
   "source": [
    "for i in range(len(helix_2)): \n",
    "    print(i+1, helix_2[i], get_short_name(helix_2[i]), get_side_chain(helix_2[i]))\n",
    "    print()"
   ]
  },
  {
   "cell_type": "code",
   "execution_count": 183,
   "metadata": {
    "kernel": "Python3",
    "scrolled": true
   },
   "outputs": [
    {
     "name": "stdout",
     "output_type": "stream",
     "text": [
      "1 G Gly nonpolar\n",
      "\n",
      "2 A Ala nonpolar\n",
      "\n",
      "3 A Ala nonpolar\n",
      "\n",
      "4 E Glu negative\n",
      "\n",
      "5 H His positive\n",
      "\n",
      "6 Y Tyr unchargedpolar\n",
      "\n",
      "7 K Lys positive\n",
      "\n",
      "8 A Ala nonpolar\n",
      "\n",
      "9 Y Tyr unchargedpolar\n",
      "\n",
      "10 L Leu nonpolar\n",
      "\n",
      "11 E Glu negative\n",
      "\n",
      "12 G Gly nonpolar\n",
      "\n"
     ]
    }
   ],
   "source": [
    "helix_3 = seq[150-1: 161]\n",
    "helix_3\n",
    "\n",
    "for i in range(len(helix_3)): \n",
    "    print(i+1, helix_3[i], get_short_name(helix_3[i]), get_side_chain(helix_3[i]))\n",
    "    print()"
   ]
  },
  {
   "cell_type": "markdown",
   "metadata": {
    "kernel": "Python3"
   },
   "source": [
    "# Q.1 Why do beta-sheet form? \n",
    "\n",
    "# Q.2 Why do Helix form? \n",
    "question is worth asking why helix form in the first place, what drives it is there a biological reason? efficiency in term of performing various tasks? binding site? \n",
    "\n",
    "# What initiates the formation of helix or beta sheets? \n",
    "\n",
    "# What role does amino acid residue provide in the folding of protein ? \n",
    "\n",
    "# Role of length of sequence ? \n",
    "\n",
    "# Does seq is the sole container of protein folding information? \n",
    "\n",
    "\n",
    "# Structure --> Fuction or Function --> Structure \n",
    "\n"
   ]
  },
  {
   "cell_type": "code",
   "execution_count": 35,
   "metadata": {
    "kernel": "Python3"
   },
   "outputs": [],
   "source": [
    "# import sys\n",
    "# sys.path"
   ]
  },
  {
   "cell_type": "code",
   "execution_count": 51,
   "metadata": {
    "kernel": "Python3"
   },
   "outputs": [
    {
     "data": {
      "text/html": [
       "<div>\n",
       "<style scoped>\n",
       "    .dataframe tbody tr th:only-of-type {\n",
       "        vertical-align: middle;\n",
       "    }\n",
       "\n",
       "    .dataframe tbody tr th {\n",
       "        vertical-align: top;\n",
       "    }\n",
       "\n",
       "    .dataframe thead th {\n",
       "        text-align: right;\n",
       "    }\n",
       "</style>\n",
       "<table border=\"1\" class=\"dataframe\">\n",
       "  <thead>\n",
       "    <tr style=\"text-align: right;\">\n",
       "      <th></th>\n",
       "      <th>ID</th>\n",
       "      <th>seq</th>\n",
       "    </tr>\n",
       "  </thead>\n",
       "  <tbody>\n",
       "  </tbody>\n",
       "</table>\n",
       "</div>"
      ],
      "text/plain": [
       "Empty DataFrame\n",
       "Columns: [ID, seq]\n",
       "Index: []"
      ]
     },
     "execution_count": 51,
     "metadata": {},
     "output_type": "execute_result"
    }
   ],
   "source": [
    "seq_df = pd.DataFrame(columns = ['ID', 'seq'])\n",
    "seq_df"
   ]
  },
  {
   "cell_type": "code",
   "execution_count": 52,
   "metadata": {
    "kernel": "Python3",
    "scrolled": true
   },
   "outputs": [],
   "source": [
    "import Bio\n",
    "from Bio import SeqIO\n",
    "for seq_record in SeqIO.parse(\"ten_protein_seq.fasta\", \"fasta\"):\n",
    "#     print(seq_record.id)\n",
    "#     print(seq_record.id.split('|')[1])\n",
    "#     print(repr(seq_record.seq))\n",
    "#     print(seq_record.seq)\n",
    "    ID = seq_record.id.split('|')[1]\n",
    "    seq = seq_record.seq\n",
    "    seq_dict = {\n",
    "        'ID' : ID, \n",
    "        'seq': seq  \n",
    "    }\n",
    "    seq_df = seq_df.append(seq_dict, ignore_index = True)\n",
    "#     print(len(seq_record))\n"
   ]
  },
  {
   "cell_type": "code",
   "execution_count": 53,
   "metadata": {
    "kernel": "Python3"
   },
   "outputs": [
    {
     "data": {
      "text/html": [
       "<div>\n",
       "<style scoped>\n",
       "    .dataframe tbody tr th:only-of-type {\n",
       "        vertical-align: middle;\n",
       "    }\n",
       "\n",
       "    .dataframe tbody tr th {\n",
       "        vertical-align: top;\n",
       "    }\n",
       "\n",
       "    .dataframe thead th {\n",
       "        text-align: right;\n",
       "    }\n",
       "</style>\n",
       "<table border=\"1\" class=\"dataframe\">\n",
       "  <thead>\n",
       "    <tr style=\"text-align: right;\">\n",
       "      <th></th>\n",
       "      <th>ID</th>\n",
       "      <th>seq</th>\n",
       "    </tr>\n",
       "  </thead>\n",
       "  <tbody>\n",
       "    <tr>\n",
       "      <th>0</th>\n",
       "      <td>Q9NQ94</td>\n",
       "      <td>(M, E, S, N, H, K, S, G, D, G, L, S, G, T, Q, ...</td>\n",
       "    </tr>\n",
       "    <tr>\n",
       "      <th>1</th>\n",
       "      <td>A8K2U0</td>\n",
       "      <td>(M, W, A, Q, L, L, L, G, M, L, A, L, S, P, A, ...</td>\n",
       "    </tr>\n",
       "    <tr>\n",
       "      <th>2</th>\n",
       "      <td>O15254</td>\n",
       "      <td>(M, A, S, T, V, E, G, G, D, T, A, L, L, P, E, ...</td>\n",
       "    </tr>\n",
       "    <tr>\n",
       "      <th>3</th>\n",
       "      <td>P86434</td>\n",
       "      <td>(M, E, Q, D, W, Q, P, G, E, E, V, T, P, G, P, ...</td>\n",
       "    </tr>\n",
       "    <tr>\n",
       "      <th>4</th>\n",
       "      <td>P05408</td>\n",
       "      <td>(M, V, S, R, M, V, S, T, M, L, S, G, L, L, F, ...</td>\n",
       "    </tr>\n",
       "    <tr>\n",
       "      <th>5</th>\n",
       "      <td>P0DMS8</td>\n",
       "      <td>(M, P, N, N, S, T, A, L, S, L, A, N, V, T, Y, ...</td>\n",
       "    </tr>\n",
       "    <tr>\n",
       "      <th>6</th>\n",
       "      <td>Q8N0Z2</td>\n",
       "      <td>(M, A, P, G, E, K, E, S, G, E, G, P, A, K, S, ...</td>\n",
       "    </tr>\n",
       "    <tr>\n",
       "      <th>7</th>\n",
       "      <td>Q16671</td>\n",
       "      <td>(M, L, G, S, L, G, L, W, A, L, L, P, T, A, V, ...</td>\n",
       "    </tr>\n",
       "    <tr>\n",
       "      <th>8</th>\n",
       "      <td>Q9GZX7</td>\n",
       "      <td>(M, D, S, L, L, M, N, R, R, K, F, L, Y, Q, F, ...</td>\n",
       "    </tr>\n",
       "    <tr>\n",
       "      <th>9</th>\n",
       "      <td>Q86TY3</td>\n",
       "      <td>(M, R, G, P, I, V, L, H, I, C, L, A, F, C, S, ...</td>\n",
       "    </tr>\n",
       "  </tbody>\n",
       "</table>\n",
       "</div>"
      ],
      "text/plain": [
       "       ID                                                seq\n",
       "0  Q9NQ94  (M, E, S, N, H, K, S, G, D, G, L, S, G, T, Q, ...\n",
       "1  A8K2U0  (M, W, A, Q, L, L, L, G, M, L, A, L, S, P, A, ...\n",
       "2  O15254  (M, A, S, T, V, E, G, G, D, T, A, L, L, P, E, ...\n",
       "3  P86434  (M, E, Q, D, W, Q, P, G, E, E, V, T, P, G, P, ...\n",
       "4  P05408  (M, V, S, R, M, V, S, T, M, L, S, G, L, L, F, ...\n",
       "5  P0DMS8  (M, P, N, N, S, T, A, L, S, L, A, N, V, T, Y, ...\n",
       "6  Q8N0Z2  (M, A, P, G, E, K, E, S, G, E, G, P, A, K, S, ...\n",
       "7  Q16671  (M, L, G, S, L, G, L, W, A, L, L, P, T, A, V, ...\n",
       "8  Q9GZX7  (M, D, S, L, L, M, N, R, R, K, F, L, Y, Q, F, ...\n",
       "9  Q86TY3  (M, R, G, P, I, V, L, H, I, C, L, A, F, C, S, ..."
      ]
     },
     "execution_count": 53,
     "metadata": {},
     "output_type": "execute_result"
    }
   ],
   "source": [
    "seq_df"
   ]
  },
  {
   "cell_type": "code",
   "execution_count": 94,
   "metadata": {
    "kernel": "Python3"
   },
   "outputs": [],
   "source": [
    "def get_seq_df(input_fasta_file_path):\n",
    "    \n",
    "    import pandas as pd\n",
    "    seq_df = pd.DataFrame(columns = ['ID', 'seq'])\n",
    "    \n",
    "    import Bio \n",
    "    from Bio import SeqIO\n",
    "    for seq_record in SeqIO.parse(input_fasta_file_path, \"fasta\"):\n",
    "        \n",
    "        ID = seq_record.id.split('|')[1]\n",
    "        seq = seq_record.seq\n",
    "        seq_dict = {\n",
    "            'ID' : ID, \n",
    "            'seq': seq  \n",
    "        }\n",
    "        \n",
    "        seq_df = seq_df.append(seq_dict, ignore_index = True)\n",
    "        \n",
    "    return seq_df\n",
    "        "
   ]
  },
  {
   "cell_type": "code",
   "execution_count": 96,
   "metadata": {
    "kernel": "Python3"
   },
   "outputs": [],
   "source": [
    "# get_seq_df('ten_protein_seq.fasta')"
   ]
  },
  {
   "cell_type": "code",
   "execution_count": 67,
   "metadata": {
    "kernel": "Python3"
   },
   "outputs": [],
   "source": [
    "a = len(seq_df['seq'][0])\n",
    "seq = seq_df['seq'][0]"
   ]
  },
  {
   "cell_type": "code",
   "execution_count": 82,
   "metadata": {
    "kernel": "Python3"
   },
   "outputs": [],
   "source": [
    "pro_1 = get_seq_details(seq)"
   ]
  },
  {
   "cell_type": "code",
   "execution_count": 83,
   "metadata": {
    "kernel": "Python3"
   },
   "outputs": [
    {
     "data": {
      "text/html": [
       "<div>\n",
       "<style scoped>\n",
       "    .dataframe tbody tr th:only-of-type {\n",
       "        vertical-align: middle;\n",
       "    }\n",
       "\n",
       "    .dataframe tbody tr th {\n",
       "        vertical-align: top;\n",
       "    }\n",
       "\n",
       "    .dataframe thead th {\n",
       "        text-align: right;\n",
       "    }\n",
       "</style>\n",
       "<table border=\"1\" class=\"dataframe\">\n",
       "  <thead>\n",
       "    <tr style=\"text-align: right;\">\n",
       "      <th></th>\n",
       "      <th>position</th>\n",
       "      <th>code</th>\n",
       "      <th>short_name</th>\n",
       "      <th>polarity</th>\n",
       "      <th>aromaticity</th>\n",
       "      <th>molecular_weight</th>\n",
       "    </tr>\n",
       "  </thead>\n",
       "  <tbody>\n",
       "    <tr>\n",
       "      <th>0</th>\n",
       "      <td>1</td>\n",
       "      <td>M</td>\n",
       "      <td>Met</td>\n",
       "      <td>nonpolar</td>\n",
       "      <td>nonaromatic</td>\n",
       "      <td>149.2</td>\n",
       "    </tr>\n",
       "    <tr>\n",
       "      <th>1</th>\n",
       "      <td>2</td>\n",
       "      <td>E</td>\n",
       "      <td>Glu</td>\n",
       "      <td>negative</td>\n",
       "      <td>nonaromatic</td>\n",
       "      <td>147.1</td>\n",
       "    </tr>\n",
       "    <tr>\n",
       "      <th>2</th>\n",
       "      <td>3</td>\n",
       "      <td>S</td>\n",
       "      <td>Ser</td>\n",
       "      <td>unchargedpolar</td>\n",
       "      <td>nonaromatic</td>\n",
       "      <td>105.1</td>\n",
       "    </tr>\n",
       "    <tr>\n",
       "      <th>3</th>\n",
       "      <td>4</td>\n",
       "      <td>N</td>\n",
       "      <td>Asn</td>\n",
       "      <td>unchargedpolar</td>\n",
       "      <td>nonaromatic</td>\n",
       "      <td>132.1</td>\n",
       "    </tr>\n",
       "    <tr>\n",
       "      <th>4</th>\n",
       "      <td>5</td>\n",
       "      <td>H</td>\n",
       "      <td>His</td>\n",
       "      <td>positive</td>\n",
       "      <td>aromatic</td>\n",
       "      <td>155.2</td>\n",
       "    </tr>\n",
       "    <tr>\n",
       "      <th>...</th>\n",
       "      <td>...</td>\n",
       "      <td>...</td>\n",
       "      <td>...</td>\n",
       "      <td>...</td>\n",
       "      <td>...</td>\n",
       "      <td>...</td>\n",
       "    </tr>\n",
       "    <tr>\n",
       "      <th>589</th>\n",
       "      <td>590</td>\n",
       "      <td>G</td>\n",
       "      <td>Gly</td>\n",
       "      <td>nonpolar</td>\n",
       "      <td>nonaromatic</td>\n",
       "      <td>75.1</td>\n",
       "    </tr>\n",
       "    <tr>\n",
       "      <th>590</th>\n",
       "      <td>591</td>\n",
       "      <td>Y</td>\n",
       "      <td>Tyr</td>\n",
       "      <td>unchargedpolar</td>\n",
       "      <td>aromatic</td>\n",
       "      <td>181.2</td>\n",
       "    </tr>\n",
       "    <tr>\n",
       "      <th>591</th>\n",
       "      <td>592</td>\n",
       "      <td>G</td>\n",
       "      <td>Gly</td>\n",
       "      <td>nonpolar</td>\n",
       "      <td>nonaromatic</td>\n",
       "      <td>75.1</td>\n",
       "    </tr>\n",
       "    <tr>\n",
       "      <th>592</th>\n",
       "      <td>593</td>\n",
       "      <td>T</td>\n",
       "      <td>Thr</td>\n",
       "      <td>unchargedpolar</td>\n",
       "      <td>nonaromatic</td>\n",
       "      <td>119.1</td>\n",
       "    </tr>\n",
       "    <tr>\n",
       "      <th>593</th>\n",
       "      <td>594</td>\n",
       "      <td>F</td>\n",
       "      <td>Phe</td>\n",
       "      <td>nonpolar</td>\n",
       "      <td>aromatic</td>\n",
       "      <td>165.2</td>\n",
       "    </tr>\n",
       "  </tbody>\n",
       "</table>\n",
       "<p>594 rows × 6 columns</p>\n",
       "</div>"
      ],
      "text/plain": [
       "    position code short_name        polarity  aromaticity  molecular_weight\n",
       "0          1    M        Met        nonpolar  nonaromatic             149.2\n",
       "1          2    E        Glu        negative  nonaromatic             147.1\n",
       "2          3    S        Ser  unchargedpolar  nonaromatic             105.1\n",
       "3          4    N        Asn  unchargedpolar  nonaromatic             132.1\n",
       "4          5    H        His        positive     aromatic             155.2\n",
       "..       ...  ...        ...             ...          ...               ...\n",
       "589      590    G        Gly        nonpolar  nonaromatic              75.1\n",
       "590      591    Y        Tyr  unchargedpolar     aromatic             181.2\n",
       "591      592    G        Gly        nonpolar  nonaromatic              75.1\n",
       "592      593    T        Thr  unchargedpolar  nonaromatic             119.1\n",
       "593      594    F        Phe        nonpolar     aromatic             165.2\n",
       "\n",
       "[594 rows x 6 columns]"
      ]
     },
     "execution_count": 83,
     "metadata": {},
     "output_type": "execute_result"
    }
   ],
   "source": [
    "pro_1"
   ]
  },
  {
   "cell_type": "code",
   "execution_count": 85,
   "metadata": {
    "kernel": "Python3"
   },
   "outputs": [
    {
     "data": {
      "text/plain": [
       "6.228956228956229"
      ]
     },
     "execution_count": 85,
     "metadata": {},
     "output_type": "execute_result"
    }
   ],
   "source": [
    "(pro_1.code == 'T').sum()/pro_1.shape[0]*100"
   ]
  },
  {
   "cell_type": "code",
   "execution_count": null,
   "metadata": {
    "kernel": "Python3"
   },
   "outputs": [],
   "source": []
  },
  {
   "cell_type": "code",
   "execution_count": 92,
   "metadata": {
    "kernel": "Python3"
   },
   "outputs": [],
   "source": [
    "def get_protein_details(seq_df):\n",
    "    \n",
    "    df = pd.DataFrame(columns = ['ID', 'nonpolar', 'polar', 'positive', 'negative', 'unchargedpolar', \n",
    "                                 'G', 'A', 'V', 'C', 'P', 'L', 'I', 'M', 'W', 'F',\n",
    "                                 'S', 'T', 'Y', 'N', 'Q',\n",
    "                                 'K','R','H', \n",
    "                                 'D', 'E',\n",
    "                                 'aromatic', 'nonaromatic',\n",
    "                                 'sum_all'\n",
    "                                ])\n",
    "    \n",
    "    for i in range(seq_df.shape[0]):\n",
    "        \n",
    "        ID = seq_df['ID'][i]\n",
    "        seq = seq_df['seq'][i]\n",
    "\n",
    "        seq_details_df = get_seq_details(seq)\n",
    "\n",
    "        nonpolar = (seq_details_df.polarity == 'nonpolar').sum()/seq_details_df.shape[0] * 100\n",
    "        polar = ((seq_details_df.polarity == 'positive')| (seq_details_df.polarity == 'negative') | (seq_details_df.polarity == 'unchargedpolar')).sum()/seq_details_df.shape[0] * 100\n",
    "        positive = (seq_details_df.polarity == 'positive').sum()/seq_details_df.shape[0] * 100\n",
    "        negative = (seq_details_df.polarity == 'negative').sum()/seq_details_df.shape[0] * 100\n",
    "        unchargedpolar = (seq_details_df.polarity == 'unchargedpolar').sum()/seq_details_df.shape[0] * 100\n",
    "\n",
    "        G = (seq_details_df.code == 'G').sum()/seq_details_df.shape[0]*100\n",
    "        A = (seq_details_df.code == 'A').sum()/seq_details_df.shape[0]*100\n",
    "        V = (seq_details_df.code == 'V').sum()/seq_details_df.shape[0]*100\n",
    "        C = (seq_details_df.code == 'C').sum()/seq_details_df.shape[0]*100\n",
    "        P = (seq_details_df.code == 'P').sum()/seq_details_df.shape[0]*100\n",
    "        L = (seq_details_df.code == 'L').sum()/seq_details_df.shape[0]*100\n",
    "        I = (seq_details_df.code == 'I').sum()/seq_details_df.shape[0]*100\n",
    "        M = (seq_details_df.code == 'M').sum()/seq_details_df.shape[0]*100\n",
    "        W = (seq_details_df.code == 'W').sum()/seq_details_df.shape[0]*100\n",
    "        F = (seq_details_df.code == 'F').sum()/seq_details_df.shape[0]*100\n",
    "        S = (seq_details_df.code == 'S').sum()/seq_details_df.shape[0]*100\n",
    "        T = (seq_details_df.code == 'T').sum()/seq_details_df.shape[0]*100\n",
    "        Y = (seq_details_df.code == 'Y').sum()/seq_details_df.shape[0]*100\n",
    "        N = (seq_details_df.code == 'N').sum()/seq_details_df.shape[0]*100\n",
    "        Q = (seq_details_df.code == 'Q').sum()/seq_details_df.shape[0]*100\n",
    "        K = (seq_details_df.code == 'K').sum()/seq_details_df.shape[0]*100\n",
    "        R = (seq_details_df.code == 'R').sum()/seq_details_df.shape[0]*100\n",
    "        H = (seq_details_df.code == 'H').sum()/seq_details_df.shape[0]*100\n",
    "        D = (seq_details_df.code == 'D').sum()/seq_details_df.shape[0]*100\n",
    "        E = (seq_details_df.code == 'E').sum()/seq_details_df.shape[0]*100\n",
    "\n",
    "        sum_all = (G + A + V + C + P + L + I + M + W + F +\n",
    "                   S + T + Y + N + Q +\n",
    "                   K + R + H +\n",
    "                   D + E)\n",
    "        \n",
    "        aromatic = W + F + Y + H \n",
    "        nonaromatic = sum_all - aromatic\n",
    "\n",
    "        all_dict = {\n",
    "            'ID' : ID,\n",
    "            'nonpolar': nonpolar,\n",
    "            'polar' : polar,\n",
    "            'positive' : positive, \n",
    "            'negative' : negative, \n",
    "            'unchargedpolar' : unchargedpolar,\n",
    "            'G' : G, 'A' : A, 'V' : V, 'C' : C, 'P' : P, 'L' : L, 'I' : I, 'M' : M, 'W' : W, \n",
    "            'F' : F, 'S' : S, 'T' : T, 'Y' : Y, 'N' : N, 'Q' : Q,\n",
    "            'K' : K, 'R' : R, 'H' : H, 'D' : D, 'E' : E,\n",
    "            'aromatic' : aromatic,\n",
    "            'nonaromatic' : nonaromatic,\n",
    "            'sum_all': sum_all\n",
    "        }\n",
    "\n",
    "        df = df.append(all_dict, ignore_index = True)\n",
    "        \n",
    "    return df"
   ]
  },
  {
   "cell_type": "code",
   "execution_count": 93,
   "metadata": {
    "kernel": "Python3"
   },
   "outputs": [
    {
     "data": {
      "text/html": [
       "<div>\n",
       "<style scoped>\n",
       "    .dataframe tbody tr th:only-of-type {\n",
       "        vertical-align: middle;\n",
       "    }\n",
       "\n",
       "    .dataframe tbody tr th {\n",
       "        vertical-align: top;\n",
       "    }\n",
       "\n",
       "    .dataframe thead th {\n",
       "        text-align: right;\n",
       "    }\n",
       "</style>\n",
       "<table border=\"1\" class=\"dataframe\">\n",
       "  <thead>\n",
       "    <tr style=\"text-align: right;\">\n",
       "      <th></th>\n",
       "      <th>ID</th>\n",
       "      <th>nonpolar</th>\n",
       "      <th>polar</th>\n",
       "      <th>positive</th>\n",
       "      <th>negative</th>\n",
       "      <th>unchargedpolar</th>\n",
       "      <th>G</th>\n",
       "      <th>A</th>\n",
       "      <th>V</th>\n",
       "      <th>C</th>\n",
       "      <th>...</th>\n",
       "      <th>N</th>\n",
       "      <th>Q</th>\n",
       "      <th>K</th>\n",
       "      <th>R</th>\n",
       "      <th>H</th>\n",
       "      <th>D</th>\n",
       "      <th>E</th>\n",
       "      <th>aromatic</th>\n",
       "      <th>nonaromatic</th>\n",
       "      <th>sum_all</th>\n",
       "    </tr>\n",
       "  </thead>\n",
       "  <tbody>\n",
       "    <tr>\n",
       "      <th>0</th>\n",
       "      <td>Q9NQ94</td>\n",
       "      <td>52.861953</td>\n",
       "      <td>47.138047</td>\n",
       "      <td>12.962963</td>\n",
       "      <td>10.774411</td>\n",
       "      <td>23.400673</td>\n",
       "      <td>9.427609</td>\n",
       "      <td>10.101010</td>\n",
       "      <td>6.902357</td>\n",
       "      <td>0.841751</td>\n",
       "      <td>...</td>\n",
       "      <td>4.040404</td>\n",
       "      <td>3.872054</td>\n",
       "      <td>6.228956</td>\n",
       "      <td>5.387205</td>\n",
       "      <td>1.346801</td>\n",
       "      <td>4.377104</td>\n",
       "      <td>6.397306</td>\n",
       "      <td>10.437710</td>\n",
       "      <td>89.562290</td>\n",
       "      <td>100.0</td>\n",
       "    </tr>\n",
       "    <tr>\n",
       "      <th>1</th>\n",
       "      <td>A8K2U0</td>\n",
       "      <td>50.618982</td>\n",
       "      <td>49.381018</td>\n",
       "      <td>9.903714</td>\n",
       "      <td>10.110041</td>\n",
       "      <td>29.367263</td>\n",
       "      <td>6.671252</td>\n",
       "      <td>6.258597</td>\n",
       "      <td>7.840440</td>\n",
       "      <td>1.719395</td>\n",
       "      <td>...</td>\n",
       "      <td>4.126547</td>\n",
       "      <td>5.639615</td>\n",
       "      <td>5.364512</td>\n",
       "      <td>2.888583</td>\n",
       "      <td>1.650619</td>\n",
       "      <td>4.539202</td>\n",
       "      <td>5.570839</td>\n",
       "      <td>11.691884</td>\n",
       "      <td>88.308116</td>\n",
       "      <td>100.0</td>\n",
       "    </tr>\n",
       "    <tr>\n",
       "      <th>2</th>\n",
       "      <td>O15254</td>\n",
       "      <td>54.571429</td>\n",
       "      <td>45.428571</td>\n",
       "      <td>13.285714</td>\n",
       "      <td>10.857143</td>\n",
       "      <td>21.285714</td>\n",
       "      <td>7.142857</td>\n",
       "      <td>9.428571</td>\n",
       "      <td>6.714286</td>\n",
       "      <td>1.857143</td>\n",
       "      <td>...</td>\n",
       "      <td>2.571429</td>\n",
       "      <td>3.857143</td>\n",
       "      <td>4.714286</td>\n",
       "      <td>5.857143</td>\n",
       "      <td>2.714286</td>\n",
       "      <td>5.000000</td>\n",
       "      <td>5.857143</td>\n",
       "      <td>12.428571</td>\n",
       "      <td>87.571429</td>\n",
       "      <td>100.0</td>\n",
       "    </tr>\n",
       "    <tr>\n",
       "      <th>3</th>\n",
       "      <td>P86434</td>\n",
       "      <td>54.716981</td>\n",
       "      <td>45.283019</td>\n",
       "      <td>10.691824</td>\n",
       "      <td>8.805031</td>\n",
       "      <td>25.786164</td>\n",
       "      <td>10.062893</td>\n",
       "      <td>8.176101</td>\n",
       "      <td>3.773585</td>\n",
       "      <td>5.031447</td>\n",
       "      <td>...</td>\n",
       "      <td>3.144654</td>\n",
       "      <td>5.660377</td>\n",
       "      <td>3.144654</td>\n",
       "      <td>4.402516</td>\n",
       "      <td>3.144654</td>\n",
       "      <td>2.515723</td>\n",
       "      <td>6.289308</td>\n",
       "      <td>11.320755</td>\n",
       "      <td>88.679245</td>\n",
       "      <td>100.0</td>\n",
       "    </tr>\n",
       "    <tr>\n",
       "      <th>4</th>\n",
       "      <td>P05408</td>\n",
       "      <td>50.471698</td>\n",
       "      <td>49.528302</td>\n",
       "      <td>14.622642</td>\n",
       "      <td>14.150943</td>\n",
       "      <td>20.754717</td>\n",
       "      <td>8.962264</td>\n",
       "      <td>5.660377</td>\n",
       "      <td>5.660377</td>\n",
       "      <td>0.943396</td>\n",
       "      <td>...</td>\n",
       "      <td>4.245283</td>\n",
       "      <td>4.716981</td>\n",
       "      <td>5.188679</td>\n",
       "      <td>5.660377</td>\n",
       "      <td>3.773585</td>\n",
       "      <td>7.075472</td>\n",
       "      <td>7.075472</td>\n",
       "      <td>11.792453</td>\n",
       "      <td>88.207547</td>\n",
       "      <td>100.0</td>\n",
       "    </tr>\n",
       "    <tr>\n",
       "      <th>5</th>\n",
       "      <td>P0DMS8</td>\n",
       "      <td>61.320755</td>\n",
       "      <td>38.679245</td>\n",
       "      <td>9.433962</td>\n",
       "      <td>4.402516</td>\n",
       "      <td>24.842767</td>\n",
       "      <td>3.459119</td>\n",
       "      <td>5.660377</td>\n",
       "      <td>9.433962</td>\n",
       "      <td>3.144654</td>\n",
       "      <td>...</td>\n",
       "      <td>4.716981</td>\n",
       "      <td>0.943396</td>\n",
       "      <td>4.402516</td>\n",
       "      <td>3.144654</td>\n",
       "      <td>1.886792</td>\n",
       "      <td>1.886792</td>\n",
       "      <td>2.515723</td>\n",
       "      <td>15.094340</td>\n",
       "      <td>84.905660</td>\n",
       "      <td>100.0</td>\n",
       "    </tr>\n",
       "    <tr>\n",
       "      <th>6</th>\n",
       "      <td>Q8N0Z2</td>\n",
       "      <td>44.094488</td>\n",
       "      <td>55.905512</td>\n",
       "      <td>19.160105</td>\n",
       "      <td>14.698163</td>\n",
       "      <td>22.047244</td>\n",
       "      <td>8.398950</td>\n",
       "      <td>6.036745</td>\n",
       "      <td>6.036745</td>\n",
       "      <td>1.049869</td>\n",
       "      <td>...</td>\n",
       "      <td>2.099738</td>\n",
       "      <td>5.774278</td>\n",
       "      <td>7.349081</td>\n",
       "      <td>8.398950</td>\n",
       "      <td>3.412073</td>\n",
       "      <td>5.511811</td>\n",
       "      <td>9.186352</td>\n",
       "      <td>9.448819</td>\n",
       "      <td>90.551181</td>\n",
       "      <td>100.0</td>\n",
       "    </tr>\n",
       "    <tr>\n",
       "      <th>7</th>\n",
       "      <td>Q16671</td>\n",
       "      <td>58.115183</td>\n",
       "      <td>41.884817</td>\n",
       "      <td>10.471204</td>\n",
       "      <td>10.471204</td>\n",
       "      <td>20.942408</td>\n",
       "      <td>7.853403</td>\n",
       "      <td>8.376963</td>\n",
       "      <td>3.664921</td>\n",
       "      <td>4.363002</td>\n",
       "      <td>...</td>\n",
       "      <td>1.570681</td>\n",
       "      <td>5.584642</td>\n",
       "      <td>1.221640</td>\n",
       "      <td>6.980803</td>\n",
       "      <td>2.268761</td>\n",
       "      <td>4.537522</td>\n",
       "      <td>5.933682</td>\n",
       "      <td>9.075044</td>\n",
       "      <td>90.924956</td>\n",
       "      <td>100.0</td>\n",
       "    </tr>\n",
       "    <tr>\n",
       "      <th>8</th>\n",
       "      <td>Q9GZX7</td>\n",
       "      <td>47.474747</td>\n",
       "      <td>52.525253</td>\n",
       "      <td>19.696970</td>\n",
       "      <td>11.616162</td>\n",
       "      <td>21.212121</td>\n",
       "      <td>4.545455</td>\n",
       "      <td>5.050505</td>\n",
       "      <td>5.050505</td>\n",
       "      <td>3.535354</td>\n",
       "      <td>...</td>\n",
       "      <td>4.545455</td>\n",
       "      <td>1.515152</td>\n",
       "      <td>4.040404</td>\n",
       "      <td>13.131313</td>\n",
       "      <td>2.525253</td>\n",
       "      <td>6.565657</td>\n",
       "      <td>5.050505</td>\n",
       "      <td>18.181818</td>\n",
       "      <td>81.818182</td>\n",
       "      <td>100.0</td>\n",
       "    </tr>\n",
       "    <tr>\n",
       "      <th>9</th>\n",
       "      <td>Q86TY3</td>\n",
       "      <td>44.832041</td>\n",
       "      <td>55.167959</td>\n",
       "      <td>8.527132</td>\n",
       "      <td>18.346253</td>\n",
       "      <td>28.294574</td>\n",
       "      <td>6.330749</td>\n",
       "      <td>6.847545</td>\n",
       "      <td>6.718346</td>\n",
       "      <td>0.387597</td>\n",
       "      <td>...</td>\n",
       "      <td>2.713178</td>\n",
       "      <td>4.780362</td>\n",
       "      <td>4.005168</td>\n",
       "      <td>3.359173</td>\n",
       "      <td>1.162791</td>\n",
       "      <td>5.943152</td>\n",
       "      <td>12.403101</td>\n",
       "      <td>5.684755</td>\n",
       "      <td>94.315245</td>\n",
       "      <td>100.0</td>\n",
       "    </tr>\n",
       "  </tbody>\n",
       "</table>\n",
       "<p>10 rows × 29 columns</p>\n",
       "</div>"
      ],
      "text/plain": [
       "       ID   nonpolar      polar   positive   negative  unchargedpolar  \\\n",
       "0  Q9NQ94  52.861953  47.138047  12.962963  10.774411       23.400673   \n",
       "1  A8K2U0  50.618982  49.381018   9.903714  10.110041       29.367263   \n",
       "2  O15254  54.571429  45.428571  13.285714  10.857143       21.285714   \n",
       "3  P86434  54.716981  45.283019  10.691824   8.805031       25.786164   \n",
       "4  P05408  50.471698  49.528302  14.622642  14.150943       20.754717   \n",
       "5  P0DMS8  61.320755  38.679245   9.433962   4.402516       24.842767   \n",
       "6  Q8N0Z2  44.094488  55.905512  19.160105  14.698163       22.047244   \n",
       "7  Q16671  58.115183  41.884817  10.471204  10.471204       20.942408   \n",
       "8  Q9GZX7  47.474747  52.525253  19.696970  11.616162       21.212121   \n",
       "9  Q86TY3  44.832041  55.167959   8.527132  18.346253       28.294574   \n",
       "\n",
       "           G          A         V         C  ...         N         Q  \\\n",
       "0   9.427609  10.101010  6.902357  0.841751  ...  4.040404  3.872054   \n",
       "1   6.671252   6.258597  7.840440  1.719395  ...  4.126547  5.639615   \n",
       "2   7.142857   9.428571  6.714286  1.857143  ...  2.571429  3.857143   \n",
       "3  10.062893   8.176101  3.773585  5.031447  ...  3.144654  5.660377   \n",
       "4   8.962264   5.660377  5.660377  0.943396  ...  4.245283  4.716981   \n",
       "5   3.459119   5.660377  9.433962  3.144654  ...  4.716981  0.943396   \n",
       "6   8.398950   6.036745  6.036745  1.049869  ...  2.099738  5.774278   \n",
       "7   7.853403   8.376963  3.664921  4.363002  ...  1.570681  5.584642   \n",
       "8   4.545455   5.050505  5.050505  3.535354  ...  4.545455  1.515152   \n",
       "9   6.330749   6.847545  6.718346  0.387597  ...  2.713178  4.780362   \n",
       "\n",
       "          K          R         H         D          E   aromatic  nonaromatic  \\\n",
       "0  6.228956   5.387205  1.346801  4.377104   6.397306  10.437710    89.562290   \n",
       "1  5.364512   2.888583  1.650619  4.539202   5.570839  11.691884    88.308116   \n",
       "2  4.714286   5.857143  2.714286  5.000000   5.857143  12.428571    87.571429   \n",
       "3  3.144654   4.402516  3.144654  2.515723   6.289308  11.320755    88.679245   \n",
       "4  5.188679   5.660377  3.773585  7.075472   7.075472  11.792453    88.207547   \n",
       "5  4.402516   3.144654  1.886792  1.886792   2.515723  15.094340    84.905660   \n",
       "6  7.349081   8.398950  3.412073  5.511811   9.186352   9.448819    90.551181   \n",
       "7  1.221640   6.980803  2.268761  4.537522   5.933682   9.075044    90.924956   \n",
       "8  4.040404  13.131313  2.525253  6.565657   5.050505  18.181818    81.818182   \n",
       "9  4.005168   3.359173  1.162791  5.943152  12.403101   5.684755    94.315245   \n",
       "\n",
       "   sum_all  \n",
       "0    100.0  \n",
       "1    100.0  \n",
       "2    100.0  \n",
       "3    100.0  \n",
       "4    100.0  \n",
       "5    100.0  \n",
       "6    100.0  \n",
       "7    100.0  \n",
       "8    100.0  \n",
       "9    100.0  \n",
       "\n",
       "[10 rows x 29 columns]"
      ]
     },
     "execution_count": 93,
     "metadata": {},
     "output_type": "execute_result"
    }
   ],
   "source": [
    "all_protein = get_protein_details(seq_df)   \n",
    "all_protein"
   ]
  },
  {
   "cell_type": "code",
   "execution_count": 72,
   "metadata": {
    "kernel": "Python3"
   },
   "outputs": [
    {
     "name": "stdout",
     "output_type": "stream",
     "text": [
      "314\n"
     ]
    },
    {
     "data": {
      "text/plain": [
       "0.5286195286195287"
      ]
     },
     "execution_count": 72,
     "metadata": {},
     "output_type": "execute_result"
    }
   ],
   "source": [
    "print((pro_1.polarity == 'nonpolar').sum())\n",
    "(pro_1.polarity == 'nonpolar').sum()/pro_1.shape[0]"
   ]
  },
  {
   "cell_type": "code",
   "execution_count": 74,
   "metadata": {
    "kernel": "Python3"
   },
   "outputs": [
    {
     "name": "stdout",
     "output_type": "stream",
     "text": [
      "280\n"
     ]
    },
    {
     "data": {
      "text/plain": [
       "0.4713804713804714"
      ]
     },
     "execution_count": 74,
     "metadata": {},
     "output_type": "execute_result"
    }
   ],
   "source": [
    "\n",
    "print(((pro_1.polarity == 'positive')| (pro_1.polarity == 'negative') | (pro_1.polarity == 'unchargedpolar')).sum())\n",
    "((pro_1.polarity == 'positive')| (pro_1.polarity == 'negative') | (pro_1.polarity == 'unchargedpolar')).sum()/pro_1.shape[0]"
   ]
  },
  {
   "cell_type": "code",
   "execution_count": 76,
   "metadata": {
    "kernel": "Python3"
   },
   "outputs": [
    {
     "name": "stdout",
     "output_type": "stream",
     "text": [
      "77\n"
     ]
    },
    {
     "data": {
      "text/plain": [
       "0.12962962962962962"
      ]
     },
     "execution_count": 76,
     "metadata": {},
     "output_type": "execute_result"
    }
   ],
   "source": [
    "print((pro_1.polarity == 'positive').sum())\n",
    "(pro_1.polarity == 'positive').sum()/pro_1.shape[0]"
   ]
  },
  {
   "cell_type": "code",
   "execution_count": 77,
   "metadata": {
    "kernel": "Python3"
   },
   "outputs": [
    {
     "name": "stdout",
     "output_type": "stream",
     "text": [
      "64\n"
     ]
    },
    {
     "data": {
      "text/plain": [
       "0.10774410774410774"
      ]
     },
     "execution_count": 77,
     "metadata": {},
     "output_type": "execute_result"
    }
   ],
   "source": [
    "print((pro_1.polarity == 'negative').sum())\n",
    "(pro_1.polarity == 'negative').sum()/pro_1.shape[0]"
   ]
  },
  {
   "cell_type": "code",
   "execution_count": 78,
   "metadata": {
    "kernel": "Python3"
   },
   "outputs": [
    {
     "name": "stdout",
     "output_type": "stream",
     "text": [
      "139\n"
     ]
    },
    {
     "data": {
      "text/plain": [
       "0.234006734006734"
      ]
     },
     "execution_count": 78,
     "metadata": {},
     "output_type": "execute_result"
    }
   ],
   "source": [
    "print((pro_1.polarity == 'unchargedpolar').sum())\n",
    "(pro_1.polarity == 'unchargedpolar').sum()/pro_1.shape[0]"
   ]
  },
  {
   "cell_type": "code",
   "execution_count": null,
   "metadata": {
    "kernel": "Python3"
   },
   "outputs": [],
   "source": []
  }
 ],
 "metadata": {
  "kernelspec": {
   "display_name": "Pollyglot",
   "language": "sos",
   "name": "sos"
  },
  "language_info": {
   "codemirror_mode": "sos",
   "file_extension": ".sos",
   "mimetype": "text/x-sos",
   "name": "sos",
   "nbconvert_exporter": "sos_notebook.converter.SoS_Exporter",
   "pygments_lexer": "sos"
  },
  "sos": {
   "kernels": [
    [
     "Python3",
     "python3",
     "Python3",
     "#FFD91A",
     {
      "name": "ipython",
      "version": 3
     }
    ]
   ],
   "panel": {
    "displayed": true,
    "height": 0
   },
   "version": "1.0.0"
  }
 },
 "nbformat": 4,
 "nbformat_minor": 4
}
