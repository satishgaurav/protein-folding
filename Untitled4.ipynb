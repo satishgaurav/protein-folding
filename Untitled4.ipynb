{
 "cells": [
  {
   "cell_type": "code",
   "execution_count": 1,
   "metadata": {},
   "outputs": [
    {
     "name": "stderr",
     "output_type": "stream",
     "text": [
      "Installing package into ‘/home/satish/R/x86_64-pc-linux-gnu-library/3.6’\n",
      "(as ‘lib’ is unspecified)\n",
      "\n"
     ]
    }
   ],
   "source": [
    "install.packages('rvest')"
   ]
  },
  {
   "cell_type": "code",
   "execution_count": 3,
   "metadata": {},
   "outputs": [],
   "source": [
    "#Loading the rvest package\n",
    "library('rvest')"
   ]
  },
  {
   "cell_type": "code",
   "execution_count": 4,
   "metadata": {},
   "outputs": [],
   "source": [
    "\n",
    "\n",
    "#Specifying the url for desired website to be scraped\n",
    "url <- 'https://www.metabolomicsworkbench.org/data/DRCCMetadata.php?Mode=Study&DataMode=ProjectData&StudyID=ST000017'\n",
    "\n",
    "#Reading the HTML code from the website\n",
    "webpage <- read_html(url)"
   ]
  },
  {
   "cell_type": "code",
   "execution_count": 9,
   "metadata": {},
   "outputs": [],
   "source": [
    "#Using CSS selectors to scrape the rankings section\n",
    "rank_data_html <- html_nodes(webpage,'head')\n",
    "\n",
    "#Converting the ranking data to text\n",
    "rank_data <- html_text(rank_data_html)"
   ]
  },
  {
   "cell_type": "code",
   "execution_count": 10,
   "metadata": {},
   "outputs": [
    {
     "data": {
      "text/html": [
       "<span style=white-space:pre-wrap>'Metabolomics Workbench : NIH Data Repository&lt;!--/*--&gt;&lt;![CDATA[/*&gt;&lt;!--*/\\n\\n\\t\\t/* high pass filter to hide @imports from browsers with poor CSS1 parsing - also hide from mac IE */\\n\\t\\t@import \"/common/style/null.css?\\\\\"\\\\{\";\\n\\t\\t@import \"/common/includes/header/02/style/header.css\";\\n\\t\\t@import \"/common/style/layout.css\";\\n\\t\\t@import \"/style/layout.css\";\\n\\t\\t@import \"/common/style/main.css\";\\n\\t\\t@import \"/style/site.css\";\\t\\t\\t@import \"/style/layout_1col.css\";\\t@import \"/common/style/restrict_width/966px.css\";\\n\\n\\t#hdr .login-nav {\\n\\t\\t/* background-image: url(\\'/images/banner_20120503a.png\\'); */\\n\\t\\tbackground-color: #ffffff;\\n\\t\\tbackground-image: url(\\'/images/MW_banner_background_v05.png\\');\\n\\t}\\n\\n.topnav ul {\\n    list-style-type: none;\\n    margin: 0;\\n    padding: 0;\\n    overflow: hidden;\\n}\\n\\n.topnav li {\\n    float: left;\\n}\\n\\n.topnav li a, .dropbtn {\\n    display: inline;\\n    color: #215EA9;\\n    text-align: center;\\n    text-decoration: none;\\n}\\n\\n.topnav li a:hover, .dropdown:hover .dropbtn {\\n}\\n\\n.topnav li.dropdown {\\n    display: inline;\\n}\\n\\n.topnav .dropdown-content {\\n    display: none;\\n    position: absolute;\\n    background-color: #f9f9f9;\\n    min-width: 160px;\\n    box-shadow: 0px 8px 16px 0px rgba(0,0,0,0.2);\\n\\tz-index: 10;\\n}\\n\\n.topnav .dropdown-content a {\\n    color: black;\\n    padding: 5px 7px;\\n    text-decoration: none;\\n    display: block;\\n    text-align: left;\\n\\tfont-weight: lighter;\\n}\\n\\n.topnav .dropdown-content a:hover {\\n\\tbackground-color: #f1f1f1;\\n}\\n\\n.topnav .dropdown:hover .dropdown-content {\\n    display: block;\\n}\\n\\n\\n\\t/* end hide from mac ie */\\n\\t/*]]&gt;*/--&gt;&lt;!--//--&gt;&lt;![CDATA[//&gt;&lt;!--\\n\\t//--&gt;&lt;!]]&gt;'</span>"
      ],
      "text/latex": [
       "'Metabolomics Workbench : NIH Data Repository<!--/*--><!{[}CDATA{[}/*><!--*/\\textbackslash{}n\\textbackslash{}n\\textbackslash{}t\\textbackslash{}t/* high pass filter to hide @imports from browsers with poor CSS1 parsing - also hide from mac IE */\\textbackslash{}n\\textbackslash{}t\\textbackslash{}t@import \"/common/style/null.css?\\textbackslash{}\\textbackslash{}\"\\textbackslash{}\\textbackslash{}\\{\";\\textbackslash{}n\\textbackslash{}t\\textbackslash{}t@import \"/common/includes/header/02/style/header.css\";\\textbackslash{}n\\textbackslash{}t\\textbackslash{}t@import \"/common/style/layout.css\";\\textbackslash{}n\\textbackslash{}t\\textbackslash{}t@import \"/style/layout.css\";\\textbackslash{}n\\textbackslash{}t\\textbackslash{}t@import \"/common/style/main.css\";\\textbackslash{}n\\textbackslash{}t\\textbackslash{}t@import \"/style/site.css\";\\textbackslash{}t\\textbackslash{}t\\textbackslash{}t@import \"/style/layout\\_1col.css\";\\textbackslash{}t@import \"/common/style/restrict\\_width/966px.css\";\\textbackslash{}n\\textbackslash{}n\\textbackslash{}t\\#hdr .login-nav \\{\\textbackslash{}n\\textbackslash{}t\\textbackslash{}t/* background-image: url(\\textbackslash{}'/images/banner\\_20120503a.png\\textbackslash{}'); */\\textbackslash{}n\\textbackslash{}t\\textbackslash{}tbackground-color: \\#ffffff;\\textbackslash{}n\\textbackslash{}t\\textbackslash{}tbackground-image: url(\\textbackslash{}'/images/MW\\_banner\\_background\\_v05.png\\textbackslash{}');\\textbackslash{}n\\textbackslash{}t\\}\\textbackslash{}n\\textbackslash{}n.topnav ul \\{\\textbackslash{}n    list-style-type: none;\\textbackslash{}n    margin: 0;\\textbackslash{}n    padding: 0;\\textbackslash{}n    overflow: hidden;\\textbackslash{}n\\}\\textbackslash{}n\\textbackslash{}n.topnav li \\{\\textbackslash{}n    float: left;\\textbackslash{}n\\}\\textbackslash{}n\\textbackslash{}n.topnav li a, .dropbtn \\{\\textbackslash{}n    display: inline;\\textbackslash{}n    color: \\#215EA9;\\textbackslash{}n    text-align: center;\\textbackslash{}n    text-decoration: none;\\textbackslash{}n\\}\\textbackslash{}n\\textbackslash{}n.topnav li a:hover, .dropdown:hover .dropbtn \\{\\textbackslash{}n\\}\\textbackslash{}n\\textbackslash{}n.topnav li.dropdown \\{\\textbackslash{}n    display: inline;\\textbackslash{}n\\}\\textbackslash{}n\\textbackslash{}n.topnav .dropdown-content \\{\\textbackslash{}n    display: none;\\textbackslash{}n    position: absolute;\\textbackslash{}n    background-color: \\#f9f9f9;\\textbackslash{}n    min-width: 160px;\\textbackslash{}n    box-shadow: 0px 8px 16px 0px rgba(0,0,0,0.2);\\textbackslash{}n\\textbackslash{}tz-index: 10;\\textbackslash{}n\\}\\textbackslash{}n\\textbackslash{}n.topnav .dropdown-content a \\{\\textbackslash{}n    color: black;\\textbackslash{}n    padding: 5px 7px;\\textbackslash{}n    text-decoration: none;\\textbackslash{}n    display: block;\\textbackslash{}n    text-align: left;\\textbackslash{}n\\textbackslash{}tfont-weight: lighter;\\textbackslash{}n\\}\\textbackslash{}n\\textbackslash{}n.topnav .dropdown-content a:hover \\{\\textbackslash{}n\\textbackslash{}tbackground-color: \\#f1f1f1;\\textbackslash{}n\\}\\textbackslash{}n\\textbackslash{}n.topnav .dropdown:hover .dropdown-content \\{\\textbackslash{}n    display: block;\\textbackslash{}n\\}\\textbackslash{}n\\textbackslash{}n\\textbackslash{}n\\textbackslash{}t/* end hide from mac ie */\\textbackslash{}n\\textbackslash{}t/*{]}{]}>*/--><!--//--><!{[}CDATA{[}//><!--\\textbackslash{}n\\textbackslash{}t//--><!{]}{]}>'"
      ],
      "text/markdown": [
       "<span style=white-space:pre-wrap>'Metabolomics Workbench : NIH Data Repository&lt;!--/*--&gt;&lt;![CDATA[/*&gt;&lt;!--*/\\n\\n\\t\\t/* high pass filter to hide @imports from browsers with poor CSS1 parsing - also hide from mac IE */\\n\\t\\t@import \"/common/style/null.css?\\\\\"\\\\{\";\\n\\t\\t@import \"/common/includes/header/02/style/header.css\";\\n\\t\\t@import \"/common/style/layout.css\";\\n\\t\\t@import \"/style/layout.css\";\\n\\t\\t@import \"/common/style/main.css\";\\n\\t\\t@import \"/style/site.css\";\\t\\t\\t@import \"/style/layout_1col.css\";\\t@import \"/common/style/restrict_width/966px.css\";\\n\\n\\t#hdr .login-nav {\\n\\t\\t/* background-image: url(\\'/images/banner_20120503a.png\\'); */\\n\\t\\tbackground-color: #ffffff;\\n\\t\\tbackground-image: url(\\'/images/MW_banner_background_v05.png\\');\\n\\t}\\n\\n.topnav ul {\\n    list-style-type: none;\\n    margin: 0;\\n    padding: 0;\\n    overflow: hidden;\\n}\\n\\n.topnav li {\\n    float: left;\\n}\\n\\n.topnav li a, .dropbtn {\\n    display: inline;\\n    color: #215EA9;\\n    text-align: center;\\n    text-decoration: none;\\n}\\n\\n.topnav li a:hover, .dropdown:hover .dropbtn {\\n}\\n\\n.topnav li.dropdown {\\n    display: inline;\\n}\\n\\n.topnav .dropdown-content {\\n    display: none;\\n    position: absolute;\\n    background-color: #f9f9f9;\\n    min-width: 160px;\\n    box-shadow: 0px 8px 16px 0px rgba(0,0,0,0.2);\\n\\tz-index: 10;\\n}\\n\\n.topnav .dropdown-content a {\\n    color: black;\\n    padding: 5px 7px;\\n    text-decoration: none;\\n    display: block;\\n    text-align: left;\\n\\tfont-weight: lighter;\\n}\\n\\n.topnav .dropdown-content a:hover {\\n\\tbackground-color: #f1f1f1;\\n}\\n\\n.topnav .dropdown:hover .dropdown-content {\\n    display: block;\\n}\\n\\n\\n\\t/* end hide from mac ie */\\n\\t/*]]&gt;*/--&gt;&lt;!--//--&gt;&lt;![CDATA[//&gt;&lt;!--\\n\\t//--&gt;&lt;!]]&gt;'</span>"
      ],
      "text/plain": [
       "[1] \"Metabolomics Workbench : NIH Data Repository<!--/*--><![CDATA[/*><!--*/\\n\\n\\t\\t/* high pass filter to hide @imports from browsers with poor CSS1 parsing - also hide from mac IE */\\n\\t\\t@import \\\"/common/style/null.css?\\\\\\\"\\\\{\\\";\\n\\t\\t@import \\\"/common/includes/header/02/style/header.css\\\";\\n\\t\\t@import \\\"/common/style/layout.css\\\";\\n\\t\\t@import \\\"/style/layout.css\\\";\\n\\t\\t@import \\\"/common/style/main.css\\\";\\n\\t\\t@import \\\"/style/site.css\\\";\\t\\t\\t@import \\\"/style/layout_1col.css\\\";\\t@import \\\"/common/style/restrict_width/966px.css\\\";\\n\\n\\t#hdr .login-nav {\\n\\t\\t/* background-image: url('/images/banner_20120503a.png'); */\\n\\t\\tbackground-color: #ffffff;\\n\\t\\tbackground-image: url('/images/MW_banner_background_v05.png');\\n\\t}\\n\\n.topnav ul {\\n    list-style-type: none;\\n    margin: 0;\\n    padding: 0;\\n    overflow: hidden;\\n}\\n\\n.topnav li {\\n    float: left;\\n}\\n\\n.topnav li a, .dropbtn {\\n    display: inline;\\n    color: #215EA9;\\n    text-align: center;\\n    text-decoration: none;\\n}\\n\\n.topnav li a:hover, .dropdown:hover .dropbtn {\\n}\\n\\n.topnav li.dropdown {\\n    display: inline;\\n}\\n\\n.topnav .dropdown-content {\\n    display: none;\\n    position: absolute;\\n    background-color: #f9f9f9;\\n    min-width: 160px;\\n    box-shadow: 0px 8px 16px 0px rgba(0,0,0,0.2);\\n\\tz-index: 10;\\n}\\n\\n.topnav .dropdown-content a {\\n    color: black;\\n    padding: 5px 7px;\\n    text-decoration: none;\\n    display: block;\\n    text-align: left;\\n\\tfont-weight: lighter;\\n}\\n\\n.topnav .dropdown-content a:hover {\\n\\tbackground-color: #f1f1f1;\\n}\\n\\n.topnav .dropdown:hover .dropdown-content {\\n    display: block;\\n}\\n\\n\\n\\t/* end hide from mac ie */\\n\\t/*]]>*/--><!--//--><![CDATA[//><!--\\n\\t//--><!]]>\""
      ]
     },
     "metadata": {},
     "output_type": "display_data"
    }
   ],
   "source": [
    "rank_data"
   ]
  },
  {
   "cell_type": "code",
   "execution_count": null,
   "metadata": {},
   "outputs": [],
   "source": []
  }
 ],
 "metadata": {
  "kernelspec": {
   "display_name": "R",
   "language": "R",
   "name": "ir"
  },
  "language_info": {
   "codemirror_mode": "r",
   "file_extension": ".r",
   "mimetype": "text/x-r-source",
   "name": "R",
   "pygments_lexer": "r",
   "version": "3.6.3"
  }
 },
 "nbformat": 4,
 "nbformat_minor": 4
}
