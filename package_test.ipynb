{
 "cells": [
  {
   "cell_type": "code",
   "execution_count": 1,
   "metadata": {
    "kernel": "R"
   },
   "outputs": [
    {
     "name": "stderr",
     "output_type": "stream",
     "text": [
      "\n",
      "Attaching package: ‘dplyr’\n",
      "\n",
      "\n",
      "The following objects are masked from ‘package:stats’:\n",
      "\n",
      "    filter, lag\n",
      "\n",
      "\n",
      "The following objects are masked from ‘package:base’:\n",
      "\n",
      "    intersect, setdiff, setequal, union\n",
      "\n",
      "\n"
     ]
    }
   ],
   "source": [
    "# library(readxl)\n",
    "library(dplyr)"
   ]
  },
  {
   "cell_type": "code",
   "execution_count": 6,
   "metadata": {
    "kernel": "R",
    "scrolled": false
   },
   "outputs": [],
   "source": [
    "installed_pkg_df <- installed.packages()  %>% as.data.frame()"
   ]
  },
  {
   "cell_type": "code",
   "execution_count": 8,
   "metadata": {
    "kernel": "R"
   },
   "outputs": [
    {
     "data": {
      "text/html": [
       "<table>\n",
       "<caption>A data.frame: 2 × 16</caption>\n",
       "<thead>\n",
       "\t<tr><th scope=col>Package</th><th scope=col>LibPath</th><th scope=col>Version</th><th scope=col>Priority</th><th scope=col>Depends</th><th scope=col>Imports</th><th scope=col>LinkingTo</th><th scope=col>Suggests</th><th scope=col>Enhances</th><th scope=col>License</th><th scope=col>License_is_FOSS</th><th scope=col>License_restricts_use</th><th scope=col>OS_type</th><th scope=col>MD5sum</th><th scope=col>NeedsCompilation</th><th scope=col>Built</th></tr>\n",
       "\t<tr><th scope=col>&lt;fct&gt;</th><th scope=col>&lt;fct&gt;</th><th scope=col>&lt;fct&gt;</th><th scope=col>&lt;fct&gt;</th><th scope=col>&lt;fct&gt;</th><th scope=col>&lt;fct&gt;</th><th scope=col>&lt;fct&gt;</th><th scope=col>&lt;fct&gt;</th><th scope=col>&lt;fct&gt;</th><th scope=col>&lt;fct&gt;</th><th scope=col>&lt;fct&gt;</th><th scope=col>&lt;fct&gt;</th><th scope=col>&lt;fct&gt;</th><th scope=col>&lt;fct&gt;</th><th scope=col>&lt;fct&gt;</th><th scope=col>&lt;fct&gt;</th></tr>\n",
       "</thead>\n",
       "<tbody>\n",
       "\t<tr><td>dplyr</td><td>/home/satish/R/x86_64-pc-linux-gnu-library/3.6</td><td>0.8.5</td><td>NA</td><td>R (&gt;= 3.2.0)</td><td>ellipsis, assertthat (&gt;= 0.2.0), glue (&gt;= 1.3.0), magrittr (&gt;=\n",
       "1.5), methods, pkgconfig, R6, Rcpp (&gt;= 1.0.1), rlang (&gt;=\n",
       "0.4.0), tibble (&gt;= 2.0.0), tidyselect (&gt;= 0.2.5), utils</td><td>BH, plogr (&gt;= 0.2.0), Rcpp (&gt;= 1.0.1)</td><td>bit64, callr, covr, crayon (&gt;= 1.3.4), DBI, dbplyr, dtplyr,\n",
       "ggplot2, hms, knitr, Lahman, lubridate, MASS, mgcv,\n",
       "microbenchmark, nycflights13, rmarkdown, RMySQL, RPostgreSQL,\n",
       "RSQLite, testthat, withr, broom, purrr, readr</td><td>NA</td><td><span style=white-space:pre-wrap>MIT + file LICENSE       </span></td><td>NA</td><td>NA</td><td>NA</td><td>NA</td><td>yes</td><td>3.6.3</td></tr>\n",
       "\t<tr><td>readr</td><td>/home/satish/R/x86_64-pc-linux-gnu-library/3.6</td><td>1.3.1</td><td>NA</td><td><span style=white-space:pre-wrap>R (&gt;= 3.1)  </span></td><td><span style=white-space:pre-wrap>Rcpp (&gt;= 0.12.0.5), tibble, hms (&gt;= 0.4.1), R6, clipr, crayon,\n",
       "methods                                                                                                          </span></td><td><span style=white-space:pre-wrap>Rcpp, BH                             </span></td><td><span style=white-space:pre-wrap>curl, testthat, knitr, rmarkdown, stringi, covr, spelling                                                                                                                                                                     </span></td><td>NA</td><td>GPL (&gt;= 2) | file LICENSE</td><td>NA</td><td>NA</td><td>NA</td><td>NA</td><td>yes</td><td>3.6.3</td></tr>\n",
       "</tbody>\n",
       "</table>\n"
      ],
      "text/latex": [
       "A data.frame: 2 × 16\n",
       "\\begin{tabular}{llllllllllllllll}\n",
       " Package & LibPath & Version & Priority & Depends & Imports & LinkingTo & Suggests & Enhances & License & License\\_is\\_FOSS & License\\_restricts\\_use & OS\\_type & MD5sum & NeedsCompilation & Built\\\\\n",
       " <fct> & <fct> & <fct> & <fct> & <fct> & <fct> & <fct> & <fct> & <fct> & <fct> & <fct> & <fct> & <fct> & <fct> & <fct> & <fct>\\\\\n",
       "\\hline\n",
       "\t dplyr & /home/satish/R/x86\\_64-pc-linux-gnu-library/3.6 & 0.8.5 & NA & R (>= 3.2.0) & ellipsis, assertthat (>= 0.2.0), glue (>= 1.3.0), magrittr (>=\n",
       "1.5), methods, pkgconfig, R6, Rcpp (>= 1.0.1), rlang (>=\n",
       "0.4.0), tibble (>= 2.0.0), tidyselect (>= 0.2.5), utils & BH, plogr (>= 0.2.0), Rcpp (>= 1.0.1) & bit64, callr, covr, crayon (>= 1.3.4), DBI, dbplyr, dtplyr,\n",
       "ggplot2, hms, knitr, Lahman, lubridate, MASS, mgcv,\n",
       "microbenchmark, nycflights13, rmarkdown, RMySQL, RPostgreSQL,\n",
       "RSQLite, testthat, withr, broom, purrr, readr & NA & MIT + file LICENSE        & NA & NA & NA & NA & yes & 3.6.3\\\\\n",
       "\t readr & /home/satish/R/x86\\_64-pc-linux-gnu-library/3.6 & 1.3.1 & NA & R (>= 3.1)   & Rcpp (>= 0.12.0.5), tibble, hms (>= 0.4.1), R6, clipr, crayon,\n",
       "methods                                                                                                           & Rcpp, BH                              & curl, testthat, knitr, rmarkdown, stringi, covr, spelling                                                                                                                                                                      & NA & GPL (>= 2) \\textbar{} file LICENSE & NA & NA & NA & NA & yes & 3.6.3\\\\\n",
       "\\end{tabular}\n"
      ],
      "text/markdown": [
       "\n",
       "A data.frame: 2 × 16\n",
       "\n",
       "| Package &lt;fct&gt; | LibPath &lt;fct&gt; | Version &lt;fct&gt; | Priority &lt;fct&gt; | Depends &lt;fct&gt; | Imports &lt;fct&gt; | LinkingTo &lt;fct&gt; | Suggests &lt;fct&gt; | Enhances &lt;fct&gt; | License &lt;fct&gt; | License_is_FOSS &lt;fct&gt; | License_restricts_use &lt;fct&gt; | OS_type &lt;fct&gt; | MD5sum &lt;fct&gt; | NeedsCompilation &lt;fct&gt; | Built &lt;fct&gt; |\n",
       "|---|---|---|---|---|---|---|---|---|---|---|---|---|---|---|---|\n",
       "| dplyr | /home/satish/R/x86_64-pc-linux-gnu-library/3.6 | 0.8.5 | NA | R (&gt;= 3.2.0) | ellipsis, assertthat (&gt;= 0.2.0), glue (&gt;= 1.3.0), magrittr (&gt;=\n",
       "1.5), methods, pkgconfig, R6, Rcpp (&gt;= 1.0.1), rlang (&gt;=\n",
       "0.4.0), tibble (&gt;= 2.0.0), tidyselect (&gt;= 0.2.5), utils | BH, plogr (&gt;= 0.2.0), Rcpp (&gt;= 1.0.1) | bit64, callr, covr, crayon (&gt;= 1.3.4), DBI, dbplyr, dtplyr,\n",
       "ggplot2, hms, knitr, Lahman, lubridate, MASS, mgcv,\n",
       "microbenchmark, nycflights13, rmarkdown, RMySQL, RPostgreSQL,\n",
       "RSQLite, testthat, withr, broom, purrr, readr | NA | MIT + file LICENSE        | NA | NA | NA | NA | yes | 3.6.3 |\n",
       "| readr | /home/satish/R/x86_64-pc-linux-gnu-library/3.6 | 1.3.1 | NA | R (&gt;= 3.1)   | Rcpp (&gt;= 0.12.0.5), tibble, hms (&gt;= 0.4.1), R6, clipr, crayon,\n",
       "methods                                                                                                           | Rcpp, BH                              | curl, testthat, knitr, rmarkdown, stringi, covr, spelling                                                                                                                                                                      | NA | GPL (&gt;= 2) | file LICENSE | NA | NA | NA | NA | yes | 3.6.3 |\n",
       "\n"
      ],
      "text/plain": [
       "  Package LibPath                                        Version Priority\n",
       "1 dplyr   /home/satish/R/x86_64-pc-linux-gnu-library/3.6 0.8.5   NA      \n",
       "2 readr   /home/satish/R/x86_64-pc-linux-gnu-library/3.6 1.3.1   NA      \n",
       "  Depends     \n",
       "1 R (>= 3.2.0)\n",
       "2 R (>= 3.1)  \n",
       "  Imports                                                                                                                                                                          \n",
       "1 ellipsis, assertthat (>= 0.2.0), glue (>= 1.3.0), magrittr (>=\\n1.5), methods, pkgconfig, R6, Rcpp (>= 1.0.1), rlang (>=\\n0.4.0), tibble (>= 2.0.0), tidyselect (>= 0.2.5), utils\n",
       "2 Rcpp (>= 0.12.0.5), tibble, hms (>= 0.4.1), R6, clipr, crayon,\\nmethods                                                                                                          \n",
       "  LinkingTo                            \n",
       "1 BH, plogr (>= 0.2.0), Rcpp (>= 1.0.1)\n",
       "2 Rcpp, BH                             \n",
       "  Suggests                                                                                                                                                                                                                      \n",
       "1 bit64, callr, covr, crayon (>= 1.3.4), DBI, dbplyr, dtplyr,\\nggplot2, hms, knitr, Lahman, lubridate, MASS, mgcv,\\nmicrobenchmark, nycflights13, rmarkdown, RMySQL, RPostgreSQL,\\nRSQLite, testthat, withr, broom, purrr, readr\n",
       "2 curl, testthat, knitr, rmarkdown, stringi, covr, spelling                                                                                                                                                                     \n",
       "  Enhances License                   License_is_FOSS License_restricts_use\n",
       "1 NA       MIT + file LICENSE        NA              NA                   \n",
       "2 NA       GPL (>= 2) | file LICENSE NA              NA                   \n",
       "  OS_type MD5sum NeedsCompilation Built\n",
       "1 NA      NA     yes              3.6.3\n",
       "2 NA      NA     yes              3.6.3"
      ]
     },
     "metadata": {},
     "output_type": "display_data"
    }
   ],
   "source": [
    "installed_pkg_df %>% filter(Package %in% c(\"readr\", \"dplyr\", \"tidyverse\"))"
   ]
  },
  {
   "cell_type": "code",
   "execution_count": null,
   "metadata": {
    "kernel": "R"
   },
   "outputs": [],
   "source": []
  }
 ],
 "metadata": {
  "kernelspec": {
   "display_name": "Pollyglot",
   "language": "sos",
   "name": "sos"
  },
  "language_info": {
   "codemirror_mode": "sos",
   "file_extension": ".sos",
   "mimetype": "text/x-sos",
   "name": "sos",
   "nbconvert_exporter": "sos_notebook.converter.SoS_Exporter",
   "pygments_lexer": "sos"
  },
  "sos": {
   "kernels": [
    [
     "R",
     "ir",
     "R",
     "#DCDCDA",
     ""
    ]
   ],
   "panel": {
    "displayed": true,
    "height": 0
   },
   "version": "1.0.0"
  }
 },
 "nbformat": 4,
 "nbformat_minor": 4
}
